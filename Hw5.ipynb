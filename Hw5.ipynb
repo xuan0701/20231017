{
  "nbformat": 4,
  "nbformat_minor": 0,
  "metadata": {
    "colab": {
      "provenance": []
    },
    "kernelspec": {
      "name": "python3",
      "display_name": "Python 3"
    },
    "language_info": {
      "name": "python"
    }
  },
  "cells": [
    {
      "cell_type": "code",
      "execution_count": 20,
      "metadata": {
        "colab": {
          "base_uri": "https://localhost:8080/"
        },
        "id": "NXI5amnWW6w2",
        "outputId": "04950266-5e5d-4a23-a613-11a5e7aa593d"
      },
      "outputs": [
        {
          "output_type": "stream",
          "name": "stdout",
          "text": [
            "        *\n",
            "       ***\n",
            "      *****\n",
            "     *******\n",
            "    *********\n",
            "   ***********\n",
            "  *************\n",
            " ***************\n",
            "*****************\n",
            "       ***\n",
            "       ***\n",
            "       ***\n",
            "       ***\n",
            "       ***\n"
          ]
        }
      ],
      "source": [
        "for i in range(1,10):\n",
        "  for k in range(1,10-i):\n",
        "    print(' ',end='')\n",
        "  for j in range(1,2*i):\n",
        "    print('*',end='')\n",
        "  print('')\n",
        "for a in range(1,6):\n",
        "  for b in range(1,8):\n",
        "    print(' ',end='')\n",
        "  for c in range(1,4):\n",
        "    print('*',end='')\n",
        "  print('')"
      ]
    },
    {
      "cell_type": "code",
      "source": [
        "import random\n",
        "ans=random.sample(range(1,10),4)\n",
        "print('答案:',ans)\n",
        "a=0\n",
        "b=0\n",
        "t=0\n",
        "while a<4:\n",
        "  a=0\n",
        "  b=0\n",
        "  t+=1\n",
        "  n=input('輸入四個數字(不會重複)')\n",
        "  while(len(n)>4):\n",
        "    n=input('輸入數字過多，請輸入四個數字(不會重複)')\n",
        "  for i in range(0,4):\n",
        "    for j in range(0,4):\n",
        "      if int(n[i])==int(ans[j]):\n",
        "        if i==j:\n",
        "          a+=1\n",
        "        else:\n",
        "          b+=1\n",
        "  print(f'{n}:{a}A{b}B')\n",
        "print(f'答對了!總共猜了{t}次')"
      ],
      "metadata": {
        "colab": {
          "base_uri": "https://localhost:8080/"
        },
        "id": "ZmJhpjpgg6EJ",
        "outputId": "69d290b8-a079-4161-e00c-282537aff25c"
      },
      "execution_count": 21,
      "outputs": [
        {
          "output_type": "stream",
          "name": "stdout",
          "text": [
            "答案: [4, 9, 1, 7]\n",
            "輸入四個數字(不會重複)24983\n",
            "輸入數字過多，請輸入四個數字(不會重複)7153\n",
            "7153:0A2B\n",
            "輸入四個數字(不會重複)4731\n",
            "4731:1A2B\n",
            "輸入四個數字(不會重複)4971\n",
            "4971:2A2B\n",
            "輸入四個數字(不會重複)4917\n",
            "4917:4A0B\n",
            "答對了!總共猜了4次\n"
          ]
        }
      ]
    }
  ]
}